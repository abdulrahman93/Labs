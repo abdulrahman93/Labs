{
 "cells": [
  {
   "cell_type": "markdown",
   "metadata": {},
   "source": [
    "# Arc list \n",
    "\n",
    "A list contains arcs of a graph\n",
    "<img src=\"network.PNG\" />"
   ]
  },
  {
   "cell_type": "code",
   "execution_count": 80,
   "metadata": {},
   "outputs": [
    {
     "name": "stdout",
     "output_type": "stream",
     "text": [
      "[(1, 2), (2, 4), (4, 6), (3, 2), (2, 5), (3, 1), (4, 5), (6, 5)]\n"
     ]
    }
   ],
   "source": [
    "graph= [(1,2),(2,4),(4,6),(3,2),(2,5),(3,1),(4,5),(6,5)]\n",
    "print(graph)"
   ]
  },
  {
   "cell_type": "markdown",
   "metadata": {},
   "source": [
    "# Doing Adjacency matrix\n",
    "\n",
    "<img src=\"dgraph.png\" />"
   ]
  },
  {
   "cell_type": "code",
   "execution_count": 71,
   "metadata": {},
   "outputs": [
    {
     "name": "stdout",
     "output_type": "stream",
     "text": [
      "6\n",
      "[['1', '2'], ['2', '4'], ['3', '1'], ['3', '2'], ['4', '5'], ['4', '6'], ['6', '5']]\n",
      "[[False  True False False False False]\n",
      " [False False False  True False False]\n",
      " [ True  True False False False False]\n",
      " [False False False False  True  True]\n",
      " [False False False False False False]\n",
      " [False False False False  True False]]\n",
      "\n",
      "\n",
      "[[0 1 0 0 0 0]\n",
      " [0 0 0 1 0 0]\n",
      " [1 1 0 0 0 0]\n",
      " [0 0 0 0 1 1]\n",
      " [0 0 0 0 0 0]\n",
      " [0 0 0 0 1 0]]\n"
     ]
    }
   ],
   "source": [
    "import csv\n",
    "import numpy as np\n",
    "\n",
    "\n",
    "def constructAdjMat(fname):\n",
    "    with open(fname, newline='') as csvfile:\n",
    "        d=csv.reader(csvfile)\n",
    "        n=0\n",
    "        list=[]\n",
    "        for row in d:\n",
    "            n=max(n,int(row[0]),int(row[1]))\n",
    "            list.append(row)\n",
    "        matrix=np.zeros((n,n),dtype=bool)\n",
    "        print(n)\n",
    "        print(list)\n",
    "        for row in list:\n",
    "            i,j = int(row[0])-1,int(row[1])-1\n",
    "            matrix[i,j]=True\n",
    "    return matrix\n",
    "    #print(matrix*1)\n",
    "            \n",
    "\n",
    "        \n",
    "matrix=constructAdjMat('data.csv')\n",
    "print(matrix)\n",
    "print(\"\\n\")\n",
    "print(matrix*1)"
   ]
  },
  {
   "cell_type": "code",
   "execution_count": 69,
   "metadata": {},
   "outputs": [
    {
     "name": "stdout",
     "output_type": "stream",
     "text": [
      "(1, 1)\n"
     ]
    }
   ],
   "source": [
    "#node degree from adj matrix\n",
    "def node_degree(n, adjMatrix):\n",
    "    indg=np.sum(adjMatrix[:,n])\n",
    "    outdg=np.sum(adjMatrix[n,:])\n",
    "    return indg, outdg\n",
    "    \n",
    "print(node_degree(0,matrix))"
   ]
  },
  {
   "cell_type": "markdown",
   "metadata": {},
   "source": [
    "# Adjacency list"
   ]
  },
  {
   "cell_type": "code",
   "execution_count": 79,
   "metadata": {},
   "outputs": [
    {
     "name": "stdout",
     "output_type": "stream",
     "text": [
      "[]\n",
      "[[2], [4], [1, 2], [5, 6], [], [5]]\n"
     ]
    }
   ],
   "source": [
    "import csv\n",
    "import numpy as np\n",
    "\n",
    "def constructAdjList(fname):\n",
    "    matrix=1\n",
    "    with open(fname, newline='') as csvfile:\n",
    "        d=csv.reader(csvfile)\n",
    "        n=0\n",
    "        list=[]\n",
    "        for row in d:\n",
    "            n=max(n,int(row[0]),int(row[1]))\n",
    "            list.append(row)\n",
    "        matrix=[[] for i in range(n)]\n",
    "        print(matrix[0])\n",
    "        \n",
    "        for row in list:\n",
    "            i,j = int(row[0])-1,int(row[1])\n",
    "            matrix[i].append(j)\n",
    "    return matrix\n",
    "        \n",
    "            \n",
    "\n",
    "        \n",
    "adjList=constructAdjList('data.csv')\n",
    "print(adjList)"
   ]
  },
  {
   "cell_type": "code",
   "execution_count": 126,
   "metadata": {},
   "outputs": [
    {
     "name": "stdout",
     "output_type": "stream",
     "text": [
      "[[[1]], [[3]], [[0, 1]], [[4, 5]], [[]], [[4]]]\n"
     ]
    }
   ],
   "source": [
    "#from matrix to adjacency list\n",
    "def matList(m):\n",
    "    n=len(m)\n",
    "    ls=[[] for i in range(n)]\n",
    "    for i in range(n):\n",
    "        ls[i]=np.nonzero(m[i,:])\n",
    "        ls[i]=[item.tolist() for item in ls[i]]\n",
    "        #print(ls[i])\n",
    "        #ls[i]=ls[i].tolist()\n",
    "    \n",
    "    return ls\n",
    "\n",
    "print(matList(matrix))"
   ]
  },
  {
   "cell_type": "code",
   "execution_count": 127,
   "metadata": {},
   "outputs": [
    {
     "name": "stdout",
     "output_type": "stream",
     "text": [
      "[[False  True False False False False]\n",
      " [False False False  True False False]\n",
      " [ True  True False False False False]\n",
      " [False False False False  True  True]\n",
      " [False False False False False False]\n",
      " [False False False False  True False]]\n"
     ]
    }
   ],
   "source": [
    "#from adjacency list to matrix\n",
    "def adjTomat(aList):\n",
    "    n=len(aList)\n",
    "    m=np.zeros((n,n),dtype=bool)\n",
    "    for i in range(len(aList)):\n",
    "        j=aList[i]\n",
    "        for indx in j:\n",
    "            m[i,indx-1]=True\n",
    "    \n",
    "    return m\n",
    "\n",
    "print(adjTomat(adjList))"
   ]
  },
  {
   "cell_type": "code",
   "execution_count": 121,
   "metadata": {},
   "outputs": [
    {
     "name": "stdout",
     "output_type": "stream",
     "text": [
      "False\n",
      "[[False  True  True False False]\n",
      " [False False False False False]\n",
      " [False False False  True  True]\n",
      " [False False False False False]\n",
      " [False False False False False]]\n",
      "second Tree:  True\n"
     ]
    }
   ],
   "source": [
    "#check tree\n",
    "def checkTree(m):\n",
    "    n=len(m)\n",
    "    numArcs=m.sum()\n",
    "    if numArcs == n-1:\n",
    "        return True\n",
    "    return False\n",
    "\n",
    "print(checkTree(matrix))"
   ]
  },
  {
   "cell_type": "markdown",
   "metadata": {},
   "source": [
    "# check if it's tree\n",
    "<img src=\"tree.png\" />"
   ]
  },
  {
   "cell_type": "code",
   "execution_count": 125,
   "metadata": {},
   "outputs": [
    {
     "name": "stdout",
     "output_type": "stream",
     "text": [
      "[[False  True  True False False]\n",
      " [False False False False False]\n",
      " [False False False  True  True]\n",
      " [False False False False False]\n",
      " [False False False False False]]\n",
      "\n",
      "second Tree:  True\n"
     ]
    }
   ],
   "source": [
    "# if tree\n",
    "\n",
    "m2=np.zeros((5,5), dtype=bool)\n",
    "m2[0,1],m2[0,2]=True, True\n",
    "m2[2,3], m2[2,4]=True, True\n",
    "print(m2)\n",
    "print(\"\\nsecond Tree: \",checkTree(m2))"
   ]
  }
 ],
 "metadata": {
  "kernelspec": {
   "display_name": "Python 3",
   "language": "python",
   "name": "python3"
  },
  "language_info": {
   "codemirror_mode": {
    "name": "ipython",
    "version": 3
   },
   "file_extension": ".py",
   "mimetype": "text/x-python",
   "name": "python",
   "nbconvert_exporter": "python",
   "pygments_lexer": "ipython3",
   "version": "3.6.1"
  }
 },
 "nbformat": 4,
 "nbformat_minor": 2
}
