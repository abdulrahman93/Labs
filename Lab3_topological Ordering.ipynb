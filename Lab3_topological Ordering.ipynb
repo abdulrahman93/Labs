{
 "cells": [
  {
   "cell_type": "markdown",
   "metadata": {},
   "source": [
    "# Topological ordering\n",
    "<img src=\"lab3_top.PNG\"/>"
   ]
  },
  {
   "cell_type": "markdown",
   "metadata": {},
   "source": [
    "# Algorithm pseudocode\n",
    "<img src=\"lab3_algo.PNG\"/>"
   ]
  },
  {
   "cell_type": "code",
   "execution_count": 23,
   "metadata": {},
   "outputs": [
    {
     "name": "stdout",
     "output_type": "stream",
     "text": [
      "[[], [0], [0, 1, 3, 4], [1, 4], [3]]\n",
      "[0]\n",
      "order:  [0]\n",
      "before pop:  [0]\n",
      "loop:  []\n",
      "before pop:  [0, 1, 3, 4]\n",
      "loop:  [0, 1, 3]\n",
      "list:  [1]\n",
      "order:  [0, 1]\n",
      "before pop:  [0, 1, 3]\n",
      "loop:  [0, 1]\n",
      "before pop:  [1, 4]\n",
      "loop:  [1]\n",
      "list:  []\n",
      "There's a cycle in network\n",
      "[0, 1]\n"
     ]
    }
   ],
   "source": [
    "import numpy as np\n",
    "##############################################\n",
    "#create an in-adjacency list\n",
    "def indegree(adjList):\n",
    "    \n",
    "    n=len(adjList)\n",
    "    #check it!!\n",
    "    #ls=[[]]*n\n",
    "    ls=[[] for i in adjList]\n",
    "    #push!(adjList[d[1,1]], d[1,2])\n",
    "    for i in range(len(adjList)):\n",
    "        if adjList[i]:\n",
    "            for j in range(len(adjList[i])):\n",
    "                ls[adjList[i][j]].append(i)\n",
    "\n",
    "    return ls\n",
    "##############################################\n",
    "#adjList is the node pointing to outgoing arcs\n",
    "#I needed using adjList to decrease number of indegree\n",
    "#I'll use inadjList to be the guide for size of indegree\n",
    "#inadjList records incoming nodes\n",
    "\n",
    "def topOrder(adjList, inadjList):\n",
    "    #Initialize\n",
    "    List=[]\n",
    "    order=[]\n",
    "    next=0\n",
    "    ##########################\n",
    "    for i in range(len(inadjList)):\n",
    "        if (not inadjList[i]):\n",
    "              List.append(i)\n",
    "\n",
    "    print(List)\n",
    "    #next+=1\n",
    "    ##########################\n",
    "    i=len(inadjList)\n",
    "\n",
    "    #print(List)\n",
    "\n",
    "    while List:\n",
    "        order.append(List[-1])\n",
    "        print(\"order: \",order)\n",
    "        last=List[-1]\n",
    "        List.pop()\n",
    "        \n",
    "\n",
    "        next += 1\n",
    "\n",
    "        if adjList[last]:\n",
    "            for j in range(len(adjList[last])):\n",
    "                        node=adjList[last][j]\n",
    "                        print(\"before pop: \",inadjList[node])\n",
    "                        inadjList[node].pop()\n",
    "                        print(\"loop: \",inadjList[node])\n",
    "                        if (not inadjList[node]):\n",
    "                            List.append(node)\n",
    "        \n",
    "        print(\"list: \",List)\n",
    "    if(next < i):\n",
    "        print(\"There's a cycle in network\")\n",
    "        \n",
    "    return order\n",
    "##############################################\n",
    "#example with cycles\n",
    "adjList=[[1,2],[2,3],[],[4,2],[2,3]]\n",
    "#csv example (no cycles\n",
    "#adjList=[[2,7],[0],[],[2,7],[1,3,5],[0,1],[3,4],[2]]\n",
    "#book example\n",
    "#adjList=[[3],[0,3,4],[],[2],[2,3]]\n",
    "inList=indegree(adjList)\n",
    "print(inList)\n",
    "print( topOrder(adjList,inList) )"
   ]
  },
  {
   "cell_type": "code",
   "execution_count": null,
   "metadata": {},
   "outputs": [],
   "source": []
  }
 ],
 "metadata": {
  "kernelspec": {
   "display_name": "Python 3",
   "language": "python",
   "name": "python3"
  },
  "language_info": {
   "codemirror_mode": {
    "name": "ipython",
    "version": 3
   },
   "file_extension": ".py",
   "mimetype": "text/x-python",
   "name": "python",
   "nbconvert_exporter": "python",
   "pygments_lexer": "ipython3",
   "version": "3.6.6"
  }
 },
 "nbformat": 4,
 "nbformat_minor": 2
}
