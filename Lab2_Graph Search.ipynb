{
 "cells": [
  {
   "cell_type": "markdown",
   "metadata": {},
   "source": [
    "# What's o(n) analysis?"
   ]
  },
  {
   "cell_type": "markdown",
   "metadata": {},
   "source": [
    "# Tree\n",
    "<img src=\"btree.png\"/>\n",
    "<img src=\"move.png\" />"
   ]
  },
  {
   "cell_type": "markdown",
   "metadata": {},
   "source": [
    "# Search algorithm?\n",
    "<img src=\"alg.png\"/>"
   ]
  },
  {
   "cell_type": "markdown",
   "metadata": {},
   "source": [
    "# Breadth First\n",
    "<img src=\"gl2.png\" />"
   ]
  },
  {
   "cell_type": "code",
   "execution_count": 47,
   "metadata": {},
   "outputs": [
    {
     "name": "stdout",
     "output_type": "stream",
     "text": [
      "[1, 2]\n"
     ]
    }
   ],
   "source": [
    "adjList=[[1,2],[2,3],[],[4,2],[2,3]]\n",
    "print(adjList)"
   ]
  },
  {
   "cell_type": "code",
   "execution_count": 37,
   "metadata": {
    "collapsed": true
   },
   "outputs": [],
   "source": [
    "def admissable(i,marked,AdjL):\n",
    "    for node in AdjL[i]:\n",
    "        if not marked[node]:\n",
    "            return True, node\n",
    "    \n",
    "    return False,0"
   ]
  },
  {
   "cell_type": "code",
   "execution_count": 43,
   "metadata": {},
   "outputs": [
    {
     "name": "stdout",
     "output_type": "stream",
     "text": [
      "Ls:  [0]\n",
      "True   1\n",
      "Ls:  [0, 1]\n",
      "True   2\n",
      "Ls:  [0, 1, 2]\n",
      "False   0\n",
      "Ls:  [1, 2]\n",
      "True   3\n",
      "Ls:  [1, 2, 3]\n",
      "False   0\n",
      "Ls:  [2, 3]\n",
      "False   0\n",
      "Ls:  [3]\n",
      "True   4\n",
      "Ls:  [3, 4]\n",
      "False   0\n",
      "Ls:  [4]\n",
      "False   0\n",
      "[-1.  0.  0.  1.  3.] \n",
      " [1. 2. 3. 4. 5.] \n",
      " [ True  True  True  True  True]\n"
     ]
    }
   ],
   "source": [
    "import numpy as np\n",
    "\n",
    "def bfs(startN,AdjL):\n",
    "    # Initialization\n",
    "    n=len(AdjL) # O(1)\n",
    "    pred=np.zeros((n)) # O(n)\n",
    "    #pred=[]*n\n",
    "    pred[0]=-1\n",
    "    order=np.zeros((n))  # O(n)\n",
    "    marked=np.zeros((n),dtype=bool)  # O(n)\n",
    "    next=1  # O(1)\n",
    "    order[startN]=next  # O(1)\n",
    "    marked[startN]=True  # O(1)\n",
    "    LIST=[]\n",
    "    LIST.append(startN)  # O(1)... \n",
    "    \n",
    "    # Main search part\n",
    "    # deal with it like a queue\n",
    "    # o(n)\n",
    "    while LIST: # while not empty\n",
    "        print(\"Ls: \",LIST)\n",
    "        i=LIST[0]\n",
    "        found,j=admissable(i,marked,AdjL) #o(m)\n",
    "        print(found,\" \",j)\n",
    "        if found:\n",
    "            marked[j]=True\n",
    "            pred[j]=i\n",
    "            next+=1\n",
    "            order[j]=next\n",
    "            LIST.append(j) # O(1)\n",
    "        else:\n",
    "            #delete first one\n",
    "            LIST.pop(0)\n",
    "        \n",
    "    # Returning \n",
    "    return pred,order,marked\n",
    "\n",
    "\n",
    "pred, order, marked =bfs(0,adjList)\n",
    "print(pred,\"\\n\",order,'\\n',marked)"
   ]
  },
  {
   "cell_type": "markdown",
   "metadata": {},
   "source": [
    "# Depth First"
   ]
  },
  {
   "cell_type": "code",
   "execution_count": 46,
   "metadata": {},
   "outputs": [
    {
     "name": "stdout",
     "output_type": "stream",
     "text": [
      "Ls:  [0]\n",
      "True   1\n",
      "Ls:  [0, 1]\n",
      "True   2\n",
      "Ls:  [0, 1, 2]\n",
      "False   0\n",
      "Ls:  [0, 1]\n",
      "True   3\n",
      "Ls:  [0, 1, 3]\n",
      "True   4\n",
      "Ls:  [0, 1, 3, 4]\n",
      "False   0\n",
      "Ls:  [0, 1, 3]\n",
      "False   0\n",
      "Ls:  [0, 1]\n",
      "False   0\n",
      "Ls:  [0]\n",
      "False   0\n",
      "[-1.  0.  1.  1.  3.] \n",
      " [1. 2. 3. 4. 5.] \n",
      " [ True  True  True  True  True]\n"
     ]
    }
   ],
   "source": [
    "def dfs(startN,AdjL):\n",
    "    # Initialization\n",
    "    n=len(AdjL) # O(1)\n",
    "    pred=np.zeros((n)) # O(n)\n",
    "    #pred=[]*n\n",
    "    pred[0]=-1\n",
    "    order=np.zeros((n))  # O(n)\n",
    "    marked=np.zeros((n),dtype=bool)  # O(n)\n",
    "    next=1  # O(1)\n",
    "    order[startN]=next  # O(1)\n",
    "    marked[startN]=True  # O(1)\n",
    "    LIST=[]\n",
    "    LIST.append(startN)  # O(1)... \n",
    "    \n",
    "    # Main search part\n",
    "    # deal with it like a stack\n",
    "    while LIST: # while not empty\n",
    "        print(\"Ls: \",LIST)\n",
    "        i=LIST[-1]\n",
    "        found,j=admissable(i,marked,AdjL)\n",
    "        print(found,\" \",j)\n",
    "        if found:\n",
    "            marked[j]=True\n",
    "            pred[j]=i\n",
    "            next+=1\n",
    "            order[j]=next\n",
    "            LIST.append(j) # O(1)\n",
    "        else:\n",
    "            #delete last one\n",
    "            LIST.pop()\n",
    "        \n",
    "    # Returning \n",
    "    return pred,order,marked\n",
    "\n",
    "\n",
    "pred, order, marked =dfs(0,adjList)\n",
    "print(pred,\"\\n\",order,'\\n',marked)"
   ]
  },
  {
   "cell_type": "code",
   "execution_count": 44,
   "metadata": {},
   "outputs": [
    {
     "name": "stdout",
     "output_type": "stream",
     "text": [
      "3\n"
     ]
    }
   ],
   "source": [
    "n=[1,2,3]\n",
    "print(n[-1])"
   ]
  }
 ],
 "metadata": {
  "kernelspec": {
   "display_name": "Python 3",
   "language": "python",
   "name": "python3"
  },
  "language_info": {
   "codemirror_mode": {
    "name": "ipython",
    "version": 3
   },
   "file_extension": ".py",
   "mimetype": "text/x-python",
   "name": "python",
   "nbconvert_exporter": "python",
   "pygments_lexer": "ipython3",
   "version": "3.6.6"
  }
 },
 "nbformat": 4,
 "nbformat_minor": 2
}
