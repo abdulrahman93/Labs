{
 "cells": [
  {
   "cell_type": "code",
   "execution_count": 29,
   "metadata": {},
   "outputs": [
    {
     "name": "stdout",
     "output_type": "stream",
     "text": [
      "[0, 6, 4, 5, 6, 9]\n"
     ]
    }
   ],
   "source": [
    "# Radix heap algorithm\n",
    "\n",
    "# Dial's implementation\n",
    "import heapq\n",
    "import numpy as np\n",
    "\n",
    "\n",
    "def Dials(adjList, adjDist, start):\n",
    "    n=len(adjList)\n",
    "    dis=[np.inf for i in range(n)]\n",
    "    dis[start] = 0\n",
    "\n",
    "    \n",
    "    pq = []\n",
    "    heapq.heappush(pq, [0,0])\n",
    "    \n",
    "    for i in range(n):\n",
    "        for j in range(len(adjList[i])):\n",
    "            entry = [dis[adjList[i][j]], adjList[i][j]]\n",
    "            entry= [2**(i-1),\n",
    "            heapq.heappush(pq, entry)\n",
    "\n",
    "    while pq:\n",
    "        dist, node = heapq.heappop(pq)\n",
    "        \n",
    "        if dist != 0\n",
    "        for j in range(len(adjList[node])):\n",
    "            nodej = adjList[node][j]\n",
    "            #print(\"here: \",nodej,\" \",node)\n",
    "            d = dis[node] + adjDist[node][j]\n",
    "            #print(d,\" \",dis[nodej])\n",
    "            if d < dis[nodej]:\n",
    "                dis[nodej] = d\n",
    "                pred[nodej]=adjLI\n",
    "\n",
    "    return dis\n",
    "\n",
    "adjList=[[1,2],[2,3],[3,4],[5],[3,5],[]]\n",
    "adjDist=[[6,4],[2,2],[1,2],[7],[1,3],[]]\n",
    "\n",
    "d=Radix_heap(adjList, adjDist, 0)\n",
    "\n",
    "\n",
    "\n",
    "print(d)"
   ]
  },
  {
   "cell_type": "code",
   "execution_count": 19,
   "metadata": {},
   "outputs": [
    {
     "name": "stdout",
     "output_type": "stream",
     "text": [
      "False\n"
     ]
    }
   ],
   "source": [
    "pq=[]\n",
    "heapq.heappush(pq, 1)\n",
    "for i in range(5):\n",
    "    heapq.heappush(pq, np.inf)\n",
    "\n",
    "print(not pq)"
   ]
  },
  {
   "cell_type": "markdown",
   "metadata": {},
   "source": [
    "# Floyd-Warshall algorithm\n",
    "<img src=\"5_Floyd.PNG\">"
   ]
  },
  {
   "cell_type": "markdown",
   "metadata": {},
   "source": [
    "## complexity?\n",
    "\n",
    "## practice time for Floyd\n",
    "## what we can do?"
   ]
  },
  {
   "cell_type": "code",
   "execution_count": null,
   "metadata": {
    "collapsed": true
   },
   "outputs": [],
   "source": [
    "#code\n"
   ]
  },
  {
   "cell_type": "code",
   "execution_count": 12,
   "metadata": {},
   "outputs": [
    {
     "name": "stdout",
     "output_type": "stream",
     "text": [
      "5\n",
      "[[0, 5, 8, 9], [inf, 0, 3, 4], [inf, inf, 0, 1], [inf, inf, inf, 0]]\n"
     ]
    }
   ],
   "source": [
    "import numpy as np\n",
    "import copy\n",
    "  \n",
    "# Solves all pair shortest path via Floyd Warshall Algorithm \n",
    "def floydWarshall(adjMat):\n",
    "    n=len(adjMat)\n",
    "    dist = copy.deepcopy(adjMat)\n",
    "    \n",
    "    #loop over all nodes\n",
    "    for k in range(n): \n",
    "        # make i as a source node \n",
    "        for i in range(n): \n",
    "            #make j as a destination node \n",
    "            for j in range(n): \n",
    "                #check if there's shorter path\n",
    "                dist[i][j] = min(dist[i][j] , dist[i][k]+ dist[k][j] ) \n",
    "    return dist \n",
    "\n",
    "\n",
    "\"\"\" \n",
    "            10 \n",
    "       (0)------->(3) \n",
    "        |         /|\\ \n",
    "      5 |          | \n",
    "        |          | 1 \n",
    "       \\|/         | \n",
    "       (1)------->(2) \n",
    "            3           \n",
    "\"\"\"\n",
    "\n",
    "inf=np.inf\n",
    "adjMat = [[0,5,inf,10], \n",
    "          [inf,0,3,inf], \n",
    "          [inf, inf, 0,   1], \n",
    "          [inf, inf, inf, 0] \n",
    "          ] \n",
    "\n",
    "print(adjMat[0][1])\n",
    "# Print result \n",
    "mat=floydWarshall(adjMat)\n",
    "print(mat)"
   ]
  },
  {
   "cell_type": "code",
   "execution_count": null,
   "metadata": {
    "collapsed": true
   },
   "outputs": [],
   "source": [
    "#What about negative cycles?\n",
    "#check distance[i,i] if negative\n",
    "#or distance[i,j] if < -nC"
   ]
  }
 ],
 "metadata": {
  "kernelspec": {
   "display_name": "Python 3",
   "language": "python",
   "name": "python3"
  },
  "language_info": {
   "codemirror_mode": {
    "name": "ipython",
    "version": 3
   },
   "file_extension": ".py",
   "mimetype": "text/x-python",
   "name": "python",
   "nbconvert_exporter": "python",
   "pygments_lexer": "ipython3",
   "version": "3.6.6"
  }
 },
 "nbformat": 4,
 "nbformat_minor": 2
}
